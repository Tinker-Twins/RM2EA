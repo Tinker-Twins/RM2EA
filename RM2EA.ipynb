{
 "cells": [
  {
   "cell_type": "markdown",
   "id": "australian-gender",
   "metadata": {},
   "source": [
    "# Rotation Matrix to Euler Angles (RM2EA)"
   ]
  },
  {
   "cell_type": "code",
   "execution_count": 1,
   "id": "graduate-paris",
   "metadata": {},
   "outputs": [],
   "source": [
    "import numpy as np\n",
    "import math"
   ]
  },
  {
   "cell_type": "code",
   "execution_count": 2,
   "id": "completed-karen",
   "metadata": {},
   "outputs": [],
   "source": [
    "def isClose(x, y, rtol=1.e-5, atol=1.e-8):\n",
    "    return abs(x-y) <= atol + rtol * abs(y)"
   ]
  },
  {
   "cell_type": "code",
   "execution_count": 3,
   "id": "moved-costume",
   "metadata": {},
   "outputs": [],
   "source": [
    "def RM2EA(R):\n",
    "    phi = 0.0\n",
    "    if isClose(R[2,0],-1.0):\n",
    "        theta = math.pi/2.0\n",
    "        psi = math.atan2(R[0,1],R[0,2])\n",
    "    elif isClose(R[2,0],1.0):\n",
    "        theta = -math.pi/2.0\n",
    "        psi = math.atan2(-R[0,1],-R[0,2])\n",
    "    else:\n",
    "        theta = -math.asin(R[2,0])\n",
    "        cos_theta = math.cos(theta)\n",
    "        psi = math.atan2(R[2,1]/cos_theta, R[2,2]/cos_theta)\n",
    "        phi = math.atan2(R[1,0]/cos_theta, R[0,0]/cos_theta)\n",
    "    return psi, theta, phi"
   ]
  },
  {
   "cell_type": "code",
   "execution_count": 4,
   "id": "differential-presentation",
   "metadata": {},
   "outputs": [
    {
     "name": "stdout",
     "output_type": "stream",
     "text": [
      "roll:  0.7853981633974483\n",
      "pitch: 0.7853885733974476\n",
      "yaw:   0.7853981633974483\n"
     ]
    }
   ],
   "source": [
    "R = np.array([[0.50000, -0.1464, 0.85360],\n",
    "              [0.50000, 0.85360, -0.1464],\n",
    "              [-0.7071, 0.50000, 0.50000]])\n",
    "\n",
    "roll, pitch, yaw = RM2EA(R)\n",
    "print(\"roll:  {}\\npitch: {}\\nyaw:   {}\".format(roll, pitch, yaw))"
   ]
  }
 ],
 "metadata": {
  "kernelspec": {
   "display_name": "Python 3",
   "language": "python",
   "name": "python3"
  },
  "language_info": {
   "codemirror_mode": {
    "name": "ipython",
    "version": 3
   },
   "file_extension": ".py",
   "mimetype": "text/x-python",
   "name": "python",
   "nbconvert_exporter": "python",
   "pygments_lexer": "ipython3",
   "version": "3.6.5"
  }
 },
 "nbformat": 4,
 "nbformat_minor": 5
}
